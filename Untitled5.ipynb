{
  "nbformat": 4,
  "nbformat_minor": 0,
  "metadata": {
    "colab": {
      "provenance": []
    },
    "kernelspec": {
      "name": "python3",
      "display_name": "Python 3"
    },
    "language_info": {
      "name": "python"
    }
  },
  "cells": [
    {
      "cell_type": "code",
      "execution_count": 2,
      "metadata": {
        "colab": {
          "base_uri": "https://localhost:8080/",
          "height": 106
        },
        "id": "BwLooWDMikb8",
        "outputId": "29659a35-971b-480c-b1d0-86eab9d304e4"
      },
      "outputs": [
        {
          "output_type": "error",
          "ename": "IndentationError",
          "evalue": "unindent does not match any outer indentation level (<tokenize>, line 28)",
          "traceback": [
            "\u001b[0;36m  File \u001b[0;32m\"<tokenize>\"\u001b[0;36m, line \u001b[0;32m28\u001b[0m\n\u001b[0;31m    *Encapsulation:-\u001b[0m\n\u001b[0m    ^\u001b[0m\n\u001b[0;31mIndentationError\u001b[0m\u001b[0;31m:\u001b[0m unindent does not match any outer indentation level\n"
          ]
        }
      ],
      "source": [
        "1. What is Object-Oriented Programming (OOP)\n",
        "-- It is a way of programming based on objects that combine data and actions\n",
        "   (methods). It helps organize code using four key principles:\n",
        "   *Encapsulation -Hiding internal details and grouping related data and\n",
        "    methods.\n",
        "   *Inheritance- Reusing code by creating new classes from existing ones.\n",
        "    *Polymorphism- Using a single interface to represent different underlying\n",
        "     forms.\n",
        "    *Abstraction- Hiding complexity and showing only the necessary features.\n",
        "\n",
        "2.  What is a class in OOP?\n",
        "--  A class defines the properties (data/attributes) and behaviors\n",
        "  (methods/functions) that the objects created from it will have.\n",
        "    *Class- it is a blueprint.\n",
        "    *Object- Actual item created from the class.\n",
        "\n",
        "3.   What is an object in OOP?\n",
        "-- An object in OOP is represented by its attributes (data members), Has\n",
        "   behavior defined by its methods (functions).\n",
        "   Is created from a class which acts as a blueprint.\n",
        "\n",
        "4.  What is the difference between abstraction and encapsulation?\n",
        "--  *Abstraction:-\n",
        "     Abstraction is the concept of hiding complex implementation details and\n",
        "     showing only the essential features of an object.\n",
        "     It focuses on what an object does rather than how it does it.\n",
        "\n",
        "    *Encapsulation:-\n",
        "     Encapsulation is the concept of bundling data and methods that operate on\n",
        "      the data within one unit (class), and restricting access to some of the\n",
        "      objects components.\n",
        "      its purpose is to protect an internal state of an object and enforce data\n",
        "      integrity.\n",
        "\n",
        "5.  What are dunder methods in Python?\n",
        "--  Dunder in python is a short for “double underscore” methods—are special,\n",
        "   built-in methods with names that start and end with double underscores.\n",
        "   Eg:- __init__, __str__\n",
        "\n",
        "6.  Explain the concept of inheritance in OOP?\n",
        "--  Inheritance is a fundamental concept in OOP that allows one class\n",
        "   to inherit the properties and behaviors (attributes and methods) of another\n",
        "   class (called a parent class or superclass).\n",
        "Its purpose is to *Avoid duplicating code across multiple classes.\n",
        "                  *Easily extend or modify behavior\n",
        "                  *Represent real-world relationships.\n",
        "\n",
        "7.  What is polymorphism in OOP?\n",
        "--  Polymorphism allows objects of different classes to be treated as objects\n",
        "    of a common superclass. It enables the same interface or method to behave\n",
        "    differently based on the object that is invoking it.\n",
        "\n",
        "8.  How is encapsulation achieved in Python?\n",
        "--  Encapsulation in Python is achieved by restricting access to the internal\n",
        "    state and behavior of an object and only exposing a controlled interface.\n",
        "    This is primarily done using access modifiers like public, private, and\n",
        "    protected.\n",
        "\n",
        "9. What is a constructor in Python?\n",
        "-- a constructor is a special method used to initialize a new object when it\n",
        "   is created. It sets up the objecTS initial state by assigning values\n",
        "   to its attributes.\n",
        "\n",
        "10. What are class and static methods in Python?\n",
        "-- * Class method:-\n",
        "     A class method is bound to the class, not the instance.\n",
        "    It receives the class itself (cls) as the first argument.\n",
        "    Defined using the \"@classmethod\" decorator.\n",
        "\n",
        "    *Static method:-\n",
        "    A static method does not take self or cls as the first argument.\n",
        "    Its like a regular function, but lives in the class's namespace.\n",
        "    Defined using the \"@staticmethod\" decorator.\n",
        "\n",
        "11. What is method overloading in Python?\n",
        "-- Method overloading is a concept in object-oriented programming where\n",
        "   multiple methods in the same class have the same name but different\n",
        "    parameters.It allows a class to have more than one method with the same\n",
        "     name, distinguished by their argument list.\n",
        "\n",
        "12. What is method overriding in OOP?\n",
        "-- Method overriding is an OOP feature that allows a subclass to provide a\n",
        "  specific implementation of a method that is already defined in its superclass.\n",
        "   We use Method Overriding because:-\n",
        "     *To change or extend behavior from the parent class.\n",
        "     *Enables runtime polymorphism.\n",
        "     *Makes code more flexible and maintainable.\n",
        "\n",
        "13. What is a property decorator in Python?\n",
        "--  It is used to define a method as a getter — turning a method into a read-only\n",
        "    attribute. It allows controlled access to instance attributes letting you\n",
        "    access methods like attributes.\n",
        "    We use Property decorator because:-\n",
        "    *Encapsulate internal data with getter/setter logic\n",
        "    *Protect or validate data without changing the interface\n",
        "    *Improve code readability and maintainability\n",
        "\n",
        "14. Why is polymorphism important in OOP?\n",
        "-- *Code reusability and Abstraction:\n",
        "     You can write code that works on a superclass or interface without knowing\n",
        "     the exact subclass being used.\n",
        "    *Extensilbility:-\n",
        "    You can add new classes that implement existing behavior without modifying\n",
        "    existing code.\n",
        "    *Simplifies code:-\n",
        "    It reduces complex conditional statements or type-checking by relying on\n",
        "    shared interfaces or base classes.\n",
        "    *Enables dynamic behaviour:-\n",
        "    Polymorphism supports runtime method resolution allowing programs to\n",
        "    determine behavior on the fly.\n",
        "    *Works with inheritance and interfaces:-\n",
        "    Polymorphism pairs with inheritance and interfaces to create loose\n",
        "    coupling and strong encapsulation.\n",
        "\n",
        "15.  What is an abstract class in Python?\n",
        "--  An abstract class in Python is a class that cannot be instantiated directly.\n",
        "    It is designed to be a blueprint for other classes, enforcing that certain\n",
        "   methods must be implemented in any subclass.\n",
        "\n",
        "16.  What are the advantages of OOP?\n",
        "--  *Modularity:-\n",
        "     Code is organized into classes with distinct responsibilities.\n",
        "     Each class encapsulates data and behaviors, promoting clean separation.\n",
        "    *Encapsulation:-\n",
        "     Internal object details are hidden using private/protected members.\n",
        "      Access to data is controlled through methods or properties.\n",
        "     *Abstraction:-\n",
        "      Hides complex implementation details.\n",
        "      Users interact with objects via clean, well-defined interfaces.\n",
        "\n",
        "17. What is the difference between a class variable and an instance variable?\n",
        "--  *class Variable:-\n",
        "       Shared across all instances\n",
        "       Inside the class, outside any method.\n",
        "\n",
        "    *Instance variable:-\n",
        "      Unique to each instance\n",
        "      Inside methods (usually __init__) via self\n",
        "\n",
        "18.  What is multiple inheritance in Python?\n",
        "--  Multiple inheritance means a class can inherit from more than one parent\n",
        "    class. This allows the child class to combine behaviors and\n",
        "    attributes from multiple sources.\n",
        "\n",
        "19. Explain the purpose of ‘’__str__’ and ‘__repr__’ ‘ methods in Python?\n",
        "--  *__str__:-\n",
        "    Called by str(obj) or print(obj)\n",
        "    Should return a user-friendly string\n",
        "    Goal: Make the object easy to read for end user\n",
        "    *__repr__:-\n",
        "    Called by repr(obj) or in the interpreter/debug tools\n",
        "    Should return a valid Python expression, if possible\n",
        "    Goal: Show unambiguous representation for developers\n",
        "\n",
        "20.  What is the significance of the ‘super()’ function in Python?\n",
        "--  The super() function in Python is used to call methods from a parent or\n",
        "     sibling class. It's especially important in inheritance, where it ensures\n",
        "      that the parent class is properly initialized or extended.\n",
        "\n",
        "\n",
        "21. What is the significance of the __del__ method in Python?\n",
        "--  The \"__del__\" method in Python is a special method called when an object is\n",
        "    about to be destroyed (garbage collected). It acts as a destructor,\n",
        "    allowing you to define custom clean-up logic when the object’s lifecycle\n",
        "    ends.\n",
        "\n",
        "22.  What is the difference between @staticmethod and @classmethod in Python?\n",
        "--  Both @staticmethod and @classmethod are decorators used to define methods\n",
        "    that behave differently from regular instance methods.\n",
        "   *Static Method:-\n",
        "   Does not take self or cls as the first argument\n",
        "   Behaves like a regular function, but belongs to the class’s namespace\n",
        "   Can be called from the class or an instance\n",
        "   Does NOT access or modify class or instance state\n",
        "   Use when your method doesn’t need access to class or instance data.\n",
        "\n",
        "   *Class Method:-\n",
        "   takes cls (the class itself) as the first argument\n",
        "    Can access or modify class-level data\n",
        "   Can be used for factory methods or polymorphic constructors\n",
        "   Use when your method needs to interact with the class\n",
        "\n",
        "23. H How does polymorphism work in Python with inheritance?\n",
        "--  Polymorphism in Python allows objects of different classes to be treated\n",
        "    as if they are objects of a common superclass, especially when using\n",
        "    inheritance. This is a core concept of Object-Oriented Programming that\n",
        "    lets you write flexible, extensible code.\n",
        "\n",
        "24. H What is method chaining in Python OOP?\n",
        "--  Method chaining is a technique where you call multiple methods on the same\n",
        "   object in a single line. Each method returns the object itself (self),\n",
        "   allowing the next method to be called right after.\n",
        "\n",
        "25. What is the purpose of the __call__ method in Python?\n",
        "--  The __call__ method in Python allows an instance of a class to be called\n",
        "  like a function.\n",
        "\n",
        "\n",
        "\n",
        "\n"
      ]
    },
    {
      "cell_type": "code",
      "source": [
        "#1.   Create a parent class Animal with a method speak() that prints a generic\n",
        " #message. Create a child class Dog\n",
        "#that overrides the speak() method to print \"Bark!\".\n",
        "\n",
        "class Animal:\n",
        "    def speak(self):\n",
        "        print(\"The animal makes a sound.\")\n",
        "\n",
        "class Dog(Animal):\n",
        "    def speak(self):\n",
        "        print(\"Bark!\")\n"
      ],
      "metadata": {
        "id": "Lb-cEJLdivW0"
      },
      "execution_count": 2,
      "outputs": []
    },
    {
      "cell_type": "code",
      "source": [
        "#2. Write a program to create an abstract class Shape with a method area().\n",
        "#Derive classes Circle and Rectangle\n",
        "#from it and implement the area() method in both.\n",
        "\n",
        "\n",
        "from abc import ABC, abstractmethod\n",
        "\n",
        "class Shape(ABC):\n",
        "    @abstractmethod\n",
        "    def area(self):\n",
        "        pass\n",
        "\n",
        "# Circle subclass\n",
        "class Circle(Shape):\n",
        "    def __init__(self, radius):\n",
        "        self.radius = radius\n",
        "           def area(self):\n",
        "             return 3.14 * self.radius ** 2\n",
        "\n",
        "class Rectangle(Shape):\n",
        "  def __init__(self, width, height):\n",
        "        self.width = width\n",
        "        self.height = height\n",
        "\n",
        "def area(self):\n",
        "  return self.width * self.height"
      ],
      "metadata": {
        "colab": {
          "base_uri": "https://localhost:8080/",
          "height": 106
        },
        "id": "neQaKPdYivux",
        "outputId": "9938412f-eddb-441e-db30-a9348c9fd2b9"
      },
      "execution_count": 6,
      "outputs": [
        {
          "output_type": "error",
          "ename": "IndentationError",
          "evalue": "unexpected indent (<ipython-input-6-4f12fe84ed43>, line 17)",
          "traceback": [
            "\u001b[0;36m  File \u001b[0;32m\"<ipython-input-6-4f12fe84ed43>\"\u001b[0;36m, line \u001b[0;32m17\u001b[0m\n\u001b[0;31m    def area(self):\u001b[0m\n\u001b[0m    ^\u001b[0m\n\u001b[0;31mIndentationError\u001b[0m\u001b[0;31m:\u001b[0m unexpected indent\n"
          ]
        }
      ]
    },
    {
      "cell_type": "code",
      "source": [
        "#3.  Implement a multi-level inheritance scenario where a class Vehicle has an\n",
        " #attribute type. Derive a class Car and further derive a class ElectricCar\n",
        " #that adds a battery attribute.\n",
        "\n",
        "\n",
        "class Vehicle:\n",
        "    def __init__(self, vehicle_type):\n",
        "        self.vehicle_type = vehicle_type\n",
        "\n",
        "\n",
        "class Car(Vehicle):\n",
        "    def __init__(self, vehicle_type, brand):\n",
        "        super().__init__(vehicle_type)\n",
        "        self.brand = brand\n",
        "\n",
        "class ElectricCar(Car):\n",
        "    def __init__(self, vehicle_type, brand, battery_capacity):\n",
        "        super().__init__(vehicle_type, brand)\n",
        "        self.battery = battery_capacity\n",
        "\n",
        "    def display_info(self):\n",
        "        return f\"Type: {self.vehicle_type}, Brand: {self.brand}, Battery: {self.battery} kWh\"\n",
        "e_car = ElectricCar(\"Electric\", \"Tesla\", 75)\n",
        "print(e_car.display_info())\n",
        "\n",
        "\n"
      ],
      "metadata": {
        "colab": {
          "base_uri": "https://localhost:8080/"
        },
        "id": "yVAJAxN-iwxM",
        "outputId": "a41594d9-6401-48a0-d0b3-cc973a452efe"
      },
      "execution_count": 7,
      "outputs": [
        {
          "output_type": "stream",
          "name": "stdout",
          "text": [
            "Type: Electric, Brand: Tesla, Battery: 75 kWh\n"
          ]
        }
      ]
    },
    {
      "cell_type": "code",
      "source": [
        "#4.  Demonstrate polymorphism by creating a base class Bird with a method fly(). Create two derived classes\n",
        "#Sparrow and Penguin that override the fly() method.\n"
      ],
      "metadata": {
        "id": "-9NRvwINGjQW"
      },
      "execution_count": 7,
      "outputs": []
    },
    {
      "cell_type": "code",
      "source": [
        "class bird:\n",
        "  def fly(self):\n",
        "    print(\"birds can fly\")\n",
        "class Sparrow(bird):\n",
        "    def fly(self):\n",
        "        print(\"Sparrow flies high in the sky!\")\n",
        "class Penguin(bird):\n",
        "    def fly(self):\n",
        "        print(\"Penguins cannot fly, but they swim very well!\")\n",
        "\n",
        "def show_flight(bird):\n",
        "    bird.fly()\n",
        "\n",
        "b1 = Sparrow()\n",
        "b2 = Penguin()\n",
        "\n",
        "show_flight(b1)\n",
        "show_flight(b2)"
      ],
      "metadata": {
        "colab": {
          "base_uri": "https://localhost:8080/"
        },
        "id": "d6_jb52ERjDk",
        "outputId": "1fdcbb9e-3100-456f-e81f-3bac11975b0d"
      },
      "execution_count": 8,
      "outputs": [
        {
          "output_type": "stream",
          "name": "stdout",
          "text": [
            "Sparrow flies high in the sky!\n",
            "Penguins cannot fly, but they swim very well!\n"
          ]
        }
      ]
    },
    {
      "cell_type": "code",
      "source": [],
      "metadata": {
        "id": "m32WqNzFRrU4"
      },
      "execution_count": null,
      "outputs": []
    },
    {
      "cell_type": "code",
      "source": [
        "#5. . Write a program to demonstrate encapsulation by creating a class\n",
        "#BankAccount with private attributes balance and methods to deposit, withdraw,\n",
        "#and check balance.\n",
        "\n",
        "\n",
        "class BankAccount:\n",
        "    def __init__(self, balance=0):\n",
        "        self.__balance = balance\n",
        "\n",
        "    def deposit(self, amount):\n",
        "        if amount > 0:\n",
        "            self.__balance += amount\n",
        "\n",
        "    def withdraw(self, amount):\n",
        "        if 0 < amount <= self.__balance:\n",
        "            self.__balance -= amount\n",
        "\n",
        "    def check_balance(self):\n",
        "        return self.__balance\n",
        "\n",
        "account = BankAccount()\n",
        "account.deposit(1000)\n",
        "account.withdraw(300)\n",
        "print(\"Current Balance:\", account.check_balance())\n",
        "\n",
        "\n",
        "\n",
        "\n"
      ],
      "metadata": {
        "colab": {
          "base_uri": "https://localhost:8080/"
        },
        "id": "6j0RJiHgZeZr",
        "outputId": "bfde570a-f73f-4817-a763-35c8c88467d3"
      },
      "execution_count": 9,
      "outputs": [
        {
          "output_type": "stream",
          "name": "stdout",
          "text": [
            "Current Balance: 700\n"
          ]
        }
      ]
    },
    {
      "cell_type": "code",
      "source": [
        "6.  Demonstrate runtime polymorphism using a method play() in a base class Instrument. Derive classes Guitar\n",
        "and Piano that implement their own version of play().\n",
        "\n",
        "class Instrument:\n",
        "    def play(self):\n",
        "        print(\"Instrument is playing.\")\n",
        "\n",
        "class Guitar(Instrument):\n",
        "    def play(self):\n",
        "        print(\"Guitar is playing.\")\n",
        "\n",
        "class Piano(Instrument):\n",
        "    def play(self):\n",
        "        print(\"Piano is playing.\")\n",
        "\n",
        "def start_playing(instrument):\n",
        "    instrument.play()\n",
        "\n",
        "\n",
        "g = Guitar()\n",
        "p = Piano()\n",
        "\n",
        "start_playing(g)\n",
        "start_playing(p)\n",
        "\n",
        "\n",
        "\n",
        "\n"
      ],
      "metadata": {
        "colab": {
          "base_uri": "https://localhost:8080/",
          "height": 106
        },
        "id": "lf337ywZiD0T",
        "outputId": "142ec99f-8cfc-47d1-c69b-7cbec54951ab"
      },
      "execution_count": 11,
      "outputs": [
        {
          "output_type": "error",
          "ename": "SyntaxError",
          "evalue": "invalid syntax (<ipython-input-11-07c188830b92>, line 1)",
          "traceback": [
            "\u001b[0;36m  File \u001b[0;32m\"<ipython-input-11-07c188830b92>\"\u001b[0;36m, line \u001b[0;32m1\u001b[0m\n\u001b[0;31m    6.  Demonstrate runtime polymorphism using a method play() in a base class Instrument. Derive classes Guitar\u001b[0m\n\u001b[0m        ^\u001b[0m\n\u001b[0;31mSyntaxError\u001b[0m\u001b[0;31m:\u001b[0m invalid syntax\n"
          ]
        }
      ]
    },
    {
      "cell_type": "code",
      "source": [
        "#7. Create a class MathOperations with a class method add_numbers() to add two\n",
        "# numbers and a static method subtract_numbers() to subtract two numbers.\n",
        "\n",
        "class MathOperations:\n",
        "    @classmethod\n",
        "    def add_numbers(cls, a, b):\n",
        "        return a + b\n",
        "\n",
        "    @staticmethod\n",
        "    def subtract_numbers(a, b):\n",
        "        return a - b\n",
        "\n",
        "print(\"Addition:\", MathOperations.add_numbers(10, 5))\n",
        "print(\"Subtraction:\", MathOperations.subtract_numbers(10, 5))\n",
        "\n",
        "\n"
      ],
      "metadata": {
        "colab": {
          "base_uri": "https://localhost:8080/"
        },
        "id": "Rzksex6nZhCi",
        "outputId": "383d0fd7-43a7-4e72-a284-bebfb63ec795"
      },
      "execution_count": 13,
      "outputs": [
        {
          "output_type": "stream",
          "name": "stdout",
          "text": [
            "Addition: 15\n",
            "Subtraction: 5\n"
          ]
        }
      ]
    },
    {
      "cell_type": "code",
      "source": [
        "#8. Implement a class Person with a class method to count the total number of persons created.\n",
        "\n",
        "\n",
        "class Person:\n",
        "    count = 0\n",
        "\n",
        "    def __init__(self, name):\n",
        "        self.name = name\n",
        "        Person.count += 1\n",
        "\n",
        "    @classmethod\n",
        "    def total(cls):\n",
        "        return cls.count\n",
        "\n",
        "\n",
        "p1 = Person(\"A\")\n",
        "p2 = Person(\"B\")\n",
        "print(\"Total persons:\", Person.total())\n",
        "\n",
        "\n",
        "\n",
        "\n"
      ],
      "metadata": {
        "colab": {
          "base_uri": "https://localhost:8080/"
        },
        "id": "v_Ni1gLVi3-h",
        "outputId": "c7d66f33-c336-4429-9172-827cc88993c9"
      },
      "execution_count": 14,
      "outputs": [
        {
          "output_type": "stream",
          "name": "stdout",
          "text": [
            "Total persons: 2\n"
          ]
        }
      ]
    },
    {
      "cell_type": "code",
      "source": [
        "#9.  Write a class Fraction with attributes numerator and denominator. Override the str method to display the\n",
        "#fraction as \"numerator/denominator\".\n",
        "\n",
        "class Fraction:\n",
        "    def __init__(self, numerator, denominator):\n",
        "        self.numerator = numerator\n",
        "        self.denominator = denominator\n",
        "\n",
        "    def __str__(self):\n",
        "        return f\"{self.numerator}/{self.denominator}\"\n",
        "\n",
        "f = Fraction(3, 4)\n",
        "print(f)"
      ],
      "metadata": {
        "colab": {
          "base_uri": "https://localhost:8080/"
        },
        "id": "nHP3tS6_jpj9",
        "outputId": "cb4fe78f-9fcf-4c3c-99da-316da210fa24"
      },
      "execution_count": 16,
      "outputs": [
        {
          "output_type": "stream",
          "name": "stdout",
          "text": [
            "3/4\n"
          ]
        }
      ]
    },
    {
      "cell_type": "code",
      "source": [
        "#10.  Demonstrate operator overloading by creating a class Vector and overriding the add method to add two\n",
        "#vectors.\n",
        "\n",
        " class Vector:\n",
        "  def __init__(self, x, y):\n",
        "    self.x = x\n",
        "    self.y = y\n",
        "\n",
        "  def __add__(self, other):\n",
        "    return Vector(self.x + other.x, self.y + other.y)\n",
        "\n",
        "  def __str__(self):\n",
        "        return f\"Vector({self.x}, {self.y})\"\n",
        "\n",
        "v1 = Vector(2, 3)\n",
        "v2 = Vector(4, 5)\n",
        "v3 = v1 + v2\n",
        "\n",
        "print(v3)\n",
        "\n",
        "\n",
        "\n"
      ],
      "metadata": {
        "colab": {
          "base_uri": "https://localhost:8080/",
          "height": 106
        },
        "id": "zgGk89eplNqA",
        "outputId": "d4399f8b-55c2-490a-8172-9925019f84f3"
      },
      "execution_count": 24,
      "outputs": [
        {
          "output_type": "error",
          "ename": "IndentationError",
          "evalue": "unexpected indent (<ipython-input-24-9e07d1459e1b>, line 4)",
          "traceback": [
            "\u001b[0;36m  File \u001b[0;32m\"<ipython-input-24-9e07d1459e1b>\"\u001b[0;36m, line \u001b[0;32m4\u001b[0m\n\u001b[0;31m    class Vector:\u001b[0m\n\u001b[0m    ^\u001b[0m\n\u001b[0;31mIndentationError\u001b[0m\u001b[0;31m:\u001b[0m unexpected indent\n"
          ]
        }
      ]
    },
    {
      "cell_type": "code",
      "source": [
        "#11. Create a class Person with attributes name and age. Add a method greet() that prints \"Hello, my name is\n",
        "#{name} and I am {age} years old.\"\n",
        "class Person:\n",
        "    def __init__(self, name, age):\n",
        "        self.name = name\n",
        "        self.age = age\n",
        "\n",
        "    def greet(self):\n",
        "        print(f\"Hello, my name is {self.name} and I am {self.age} years old.\")\n",
        "\n",
        "p = Person(\"Alice\", 25)\n",
        "p.greet()"
      ],
      "metadata": {
        "colab": {
          "base_uri": "https://localhost:8080/"
        },
        "id": "dqVhtXYh4To3",
        "outputId": "d3eef002-c079-4245-e5dd-eb90c03e3e67"
      },
      "execution_count": 11,
      "outputs": [
        {
          "output_type": "stream",
          "name": "stdout",
          "text": [
            "Hello, my name is Alice and I am 25 years old.\n"
          ]
        }
      ]
    },
    {
      "cell_type": "code",
      "source": [
        "12. . Implement a class Student with attributes name and grades. Create a method average_grade() to compute\n",
        "the average of the grades.\n",
        "--\n",
        "\n"
      ],
      "metadata": {
        "colab": {
          "base_uri": "https://localhost:8080/",
          "height": 106
        },
        "id": "H49XYgb98kC-",
        "outputId": "46d4e444-4140-4694-f833-aa8edecdeaff"
      },
      "execution_count": 12,
      "outputs": [
        {
          "output_type": "error",
          "ename": "SyntaxError",
          "evalue": "invalid syntax (<ipython-input-12-85c0cee928b7>, line 1)",
          "traceback": [
            "\u001b[0;36m  File \u001b[0;32m\"<ipython-input-12-85c0cee928b7>\"\u001b[0;36m, line \u001b[0;32m1\u001b[0m\n\u001b[0;31m    12. . Implement a class Student with attributes name and grades. Create a method average_grade() to compute\u001b[0m\n\u001b[0m                    ^\u001b[0m\n\u001b[0;31mSyntaxError\u001b[0m\u001b[0;31m:\u001b[0m invalid syntax\n"
          ]
        }
      ]
    },
    {
      "cell_type": "code",
      "source": [
        " class Student:\n",
        "    def __init__(self, name, grades):\n",
        "        self.name = name\n",
        "        self.grades = grades\n",
        "\n",
        "    def average_grade(self):\n",
        "        return sum(self.grades) / len(self.grades)\n",
        "\n",
        "s = Student(\"John\", [85, 90, 78])\n",
        "print(\"{}'s average grade is: {:.2f}\".format(s.name, s.average_grade()))\n"
      ],
      "metadata": {
        "colab": {
          "base_uri": "https://localhost:8080/"
        },
        "id": "yEfu3YGz9s8c",
        "outputId": "c5e1e707-c604-4b62-9135-5111317ca2f8"
      },
      "execution_count": 2,
      "outputs": [
        {
          "output_type": "stream",
          "name": "stdout",
          "text": [
            "John's average grade is: 84.33\n"
          ]
        }
      ]
    },
    {
      "cell_type": "code",
      "source": [
        "#13.  Create a class Rectangle with methods set_dimensions() to set the dimensions and area() to calculate the\n",
        "#area\n",
        "\n",
        "class Rectangle:\n",
        "    def set_dimensions(self, width, height):\n",
        "        self.width = width\n",
        "        self.height = height\n",
        "\n",
        "    def area(self):\n",
        "        return self.width * self.height\n",
        "\n",
        "\n",
        "a = Rectangle()\n",
        "a.set_dimensions(5, 3)\n",
        "print(\"Area of rectangle:\", a.area())"
      ],
      "metadata": {
        "colab": {
          "base_uri": "https://localhost:8080/"
        },
        "id": "0AdRZCygQErf",
        "outputId": "a48764ef-1b06-44e7-f6fc-75e7cd52026f"
      },
      "execution_count": 28,
      "outputs": [
        {
          "output_type": "stream",
          "name": "stdout",
          "text": [
            "Area of rectangle: 15\n"
          ]
        }
      ]
    },
    {
      "cell_type": "code",
      "source": [
        "#14.  Create a class Employee with a method calculate_salary() that computes the salary based on hours worked\n",
        "#and hourly rate. Create a derived class Manager that adds a bonus to the salary\n",
        "\n",
        "class Employee:\n",
        "    def __init__(self, hours_worked, hourly_rate):\n",
        "        self.hours_worked = hours_worked\n",
        "        self.hourly_rate = hourly_rate\n",
        "\n",
        "    def calculate_salary(self):\n",
        "        return self.hours_worked * self.hourly_rate\n",
        "\n",
        "class Manager(Employee):\n",
        "    def __init__(self, hours_worked, hourly_rate, bonus):\n",
        "        super().__init__(hours_worked, hourly_rate)\n",
        "        self.bonus = bonus\n",
        "\n",
        "    def calculate_salary(self):\n",
        "        return super().calculate_salary() + self.bonus\n",
        "\n",
        "emp = Employee(40, 20)\n",
        "mgr = Manager(40, 20, 500)\n",
        "\n",
        "print(\" E.Salary:\", emp.calculate_salary())  # Output: 800\n",
        "print(\"M.Salary:\", mgr.calculate_salary())"
      ],
      "metadata": {
        "colab": {
          "base_uri": "https://localhost:8080/"
        },
        "id": "NeZjRJrtlpG9",
        "outputId": "9fd03b98-a3f9-4438-c2db-7f3e33dc9e02"
      },
      "execution_count": 29,
      "outputs": [
        {
          "output_type": "stream",
          "name": "stdout",
          "text": [
            " E.Salary: 800\n",
            "M.Salary: 1300\n"
          ]
        }
      ]
    },
    {
      "cell_type": "code",
      "source": [
        "#15. Create a class Product with attributes name, price, and quantity. Implement a method total_price() that\n",
        "#calculates the total price of the product.\n",
        "\n",
        "class Product:\n",
        "    def __init__(self, name, price, quantity):\n",
        "        self.name = name\n",
        "        self.price = price\n",
        "        self.quantity = quantity\n",
        "\n",
        "    def total_price(self):\n",
        "        return self.price * self.quantity\n",
        "\n",
        "p = Product(\"Pen\", 10, 5)\n",
        "print(f\"Total price for {p.name}: Rs{p.total_price()}\")"
      ],
      "metadata": {
        "colab": {
          "base_uri": "https://localhost:8080/"
        },
        "id": "j9f9U5kKmNct",
        "outputId": "5d2c899f-ea53-46a2-fbb2-e0907ecf30cf"
      },
      "execution_count": 31,
      "outputs": [
        {
          "output_type": "stream",
          "name": "stdout",
          "text": [
            "Total price for Pen: Rs50\n"
          ]
        }
      ]
    },
    {
      "cell_type": "code",
      "source": [
        "#16.  Create a class Animal with an abstract method sound(). Create two derived classes Cow and Sheep that\n",
        "#implement the sound() method.\n",
        "\n",
        "from abc import ABC, abstractmethod\n",
        "class Animal(ABC):\n",
        "    @abstractmethod\n",
        "    def sound(self):\n",
        "        pass\n",
        "\n",
        "class Cow(Animal):\n",
        "    def sound(self):\n",
        "        print(\"hey\")\n",
        "\n",
        "class Sheep(Animal):\n",
        "    def sound(self):\n",
        "        print(\"bye\")\n",
        "\n",
        "cow = Cow()\n",
        "sheep = Sheep()\n",
        "\n",
        "cow.sound()\n",
        "sheep.sound()"
      ],
      "metadata": {
        "colab": {
          "base_uri": "https://localhost:8080/"
        },
        "id": "R3LDbIGwmotF",
        "outputId": "64845d64-bf50-49bb-cb34-3eab00d72b1c"
      },
      "execution_count": 33,
      "outputs": [
        {
          "output_type": "stream",
          "name": "stdout",
          "text": [
            "hey\n",
            "bye\n"
          ]
        }
      ]
    },
    {
      "cell_type": "code",
      "source": [
        "#17. Create a class Book with attributes title, author, and year_published. Add a method get_book_info() that\n",
        "#returns a formatted string with the book's details\n",
        "\n",
        "class Book:\n",
        "    def __init__(self, title, author, year_published):\n",
        "        self.title = title\n",
        "        self.author = author\n",
        "        self.year_published = year_published\n",
        "\n",
        "    def get_book_info(self):\n",
        "        return f\"'{self.title}' by {self.author}, published in {self.year_published}\"\n",
        "\n",
        "\n",
        "book = Book(\"2021\", \"Manifestation\", 2021)\n",
        "print(book.get_book_info())"
      ],
      "metadata": {
        "colab": {
          "base_uri": "https://localhost:8080/"
        },
        "id": "dJu3QDvRnD3M",
        "outputId": "58b97b86-634d-4838-db14-91c875ddb83a"
      },
      "execution_count": 36,
      "outputs": [
        {
          "output_type": "stream",
          "name": "stdout",
          "text": [
            "'2021' by Manifestation, published in 2021\n"
          ]
        }
      ]
    },
    {
      "cell_type": "code",
      "source": [
        "#18.  Create a class House with attributes address and price. Create a derived class Mansion that adds an\n",
        "#attribute number_of_rooms.\n",
        "\n",
        "class House:\n",
        "    def __init__(self, address, price):\n",
        "        self.address = address\n",
        "        self.price = price\n",
        "\n",
        "class Mansion(House):\n",
        "    def __init__(self, address, price, number_of_rooms):\n",
        "        super().__init__(address, price)\n",
        "        self.number_of_rooms = number_of_rooms\n",
        "\n",
        "h = House(\"c 1933\", 15000)\n",
        "m = Mansion(\"Joba mansion\", 1500000, 7)\n",
        "\n",
        "print(f\"House Address: {h.address}, Price: {h.price}\")\n",
        "print(f\"Mansion Address: {m.address}, Price: {m.price}, Rooms: {m.number_of_rooms}\")\n"
      ],
      "metadata": {
        "colab": {
          "base_uri": "https://localhost:8080/"
        },
        "id": "z61v_l2anjZm",
        "outputId": "68e12817-5296-45a3-94c5-0ff097217f03"
      },
      "execution_count": 38,
      "outputs": [
        {
          "output_type": "stream",
          "name": "stdout",
          "text": [
            "House Address: c 1933, Price: 15000\n",
            "Mansion Address: Joba mansion, Price: 1500000, Rooms: 7\n"
          ]
        }
      ]
    },
    {
      "cell_type": "code",
      "source": [],
      "metadata": {
        "id": "795Ju1qSoUq8"
      },
      "execution_count": null,
      "outputs": []
    }
  ]
}